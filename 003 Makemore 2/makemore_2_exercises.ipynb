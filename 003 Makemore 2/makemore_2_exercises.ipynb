{
 "cells": [
  {
   "cell_type": "markdown",
   "metadata": {},
   "source": [
    "## Makemore 2 - Exercises"
   ]
  },
  {
   "cell_type": "markdown",
   "metadata": {},
   "source": [
    "## Exercise 1 - Beating the Game\n",
    "\n",
    "**Objective:** Tune the hyperparameters of the training to beat Andrej's best validation loss of $2.2$.<br>"
   ]
  },
  {
   "cell_type": "code",
   "execution_count": 1,
   "metadata": {},
   "outputs": [],
   "source": [
    "import tqdm\n",
    "import random\n",
    "import torch\n",
    "import torch.nn.functional as F\n",
    "import matplotlib.pyplot as plt\n",
    "%matplotlib inline\n",
    "\n",
    "device = torch.device(\"cuda:0\" if torch.cuda.is_available() else \"cpu\") # Use GPU if available"
   ]
  },
  {
   "cell_type": "code",
   "execution_count": 3,
   "metadata": {},
   "outputs": [
    {
     "name": "stdout",
     "output_type": "stream",
     "text": [
      "['emma', 'olivia', 'ava', 'isabella', 'sophia', 'charlotte', 'mia', 'amelia']\n",
      "32033\n"
     ]
    }
   ],
   "source": [
    "words = open(\"names.txt\", \"r\").read().splitlines() # Python list of strings\n",
    "print(words[:8]) # show a sample of the first 8 names\n",
    "print(len(words)) # this many words in total"
   ]
  },
  {
   "cell_type": "code",
   "execution_count": 4,
   "metadata": {},
   "outputs": [],
   "source": [
    "# build a vocabulary of characters map them to integers\n",
    "chars = sorted(list(set(''.join(words)))) # set(): Throwing out letter duplicates\n",
    "stoi = {s:i+1 for i,s in enumerate(chars)} # Make tupels of type (char, counter)\n",
    "stoi['.'] = 0 # Add this special symbol's entry explicitly\n",
    "itos = {i:s for s,i in stoi.items()} # Switch order of (char, counter) to (counter, char)"
   ]
  },
  {
   "cell_type": "code",
   "execution_count": 5,
   "metadata": {},
   "outputs": [
    {
     "name": "stdout",
     "output_type": "stream",
     "text": [
      "Training Set:\n",
      "X: torch.Size([182625, 3]) \tY: torch.Size([182625])\n",
      "Validation Set:\n",
      "X: torch.Size([22655, 3]) \tY: torch.Size([22655])\n",
      "Test Set:\n",
      "X: torch.Size([22866, 3]) \tY: torch.Size([22866])\n"
     ]
    }
   ],
   "source": [
    "block_size = 3\n",
    "\n",
    "def build_dataset(words):\n",
    "    X, Y = [], []\n",
    "\n",
    "    for w in words:\n",
    "        context = [0] * block_size\n",
    "        for ch in w + '.':\n",
    "            ix = stoi[ch]\n",
    "            X.append(context)\n",
    "            Y.append(ix)\n",
    "            context = context[1:] + [ix] # crop and append\n",
    "\n",
    "    X = torch.tensor(X)\n",
    "    Y = torch.tensor(Y)\n",
    "    print('X:', X.shape, '\\tY:', Y.shape)\n",
    "    return X,Y\n",
    "\n",
    "random.seed(42)          # for reproducibility\n",
    "random.shuffle(words)    # words is just the bare list of all names, from wayyy above\n",
    "n1 = int(0.8*len(words)) # index at 80% of all words (rounded for integer indexing)\n",
    "n2 = int(0.9*len(words)) # index at 90% of all words (rounded for integer indexing)\n",
    "\n",
    "print('Training Set:')\n",
    "Xtr, Ytr = build_dataset(words[:n1])     # The first 80% of all words\n",
    "print('Validation Set:')\n",
    "Xdev, Ydev = build_dataset(words[n1:n2]) # The 10% from 80% to 90% of all words\n",
    "print('Test Set:')\n",
    "Xte, Yte = build_dataset(words[n2:])     # The 10% from 90% to 100% of all words"
   ]
  },
  {
   "cell_type": "code",
   "execution_count": 6,
   "metadata": {},
   "outputs": [
    {
     "name": "stdout",
     "output_type": "stream",
     "text": [
      "18167 parameters\n"
     ]
    }
   ],
   "source": [
    "g = torch.Generator().manual_seed(2147483647) # for reproducibility\n",
    "C = torch.randn((27, 20), generator=g)\n",
    "W1 = torch.randn((block_size * 20, 200), generator=g)\n",
    "b1 = torch.randn((200), generator=g)\n",
    "W2 = torch.randn((200,27), generator=g)\n",
    "b2 = torch.randn((27), generator=g)\n",
    "\n",
    "parameters = [C, W1, b1, W2, b2] # Cluster all parameters into one structure\n",
    "\n",
    "print(sum(p.nelement() for p in parameters), 'parameters')\n",
    "\n",
    "for p in parameters:\n",
    "    p.requires_grad = True\n",
    "\n",
    "lossi = []\n",
    "stepi = []"
   ]
  },
  {
   "cell_type": "code",
   "execution_count": 7,
   "metadata": {},
   "outputs": [
    {
     "name": "stderr",
     "output_type": "stream",
     "text": [
      "100%|██████████| 400000/400000 [02:44<00:00, 2434.74it/s]\n"
     ]
    }
   ],
   "source": [
    "epochs = 400_000\n",
    "\n",
    "for i in tqdm.tqdm(range(epochs)):\n",
    "    # mini-batch construct\n",
    "    ix = torch.randint(0, Xtr.shape[0], (128,)) # Batch size was 32 before, now 128\n",
    "\n",
    "    # Forward-Pass\n",
    "    emb = C[Xtr[ix]] # (32, 3, 10)\n",
    "    h1 = torch.tanh(emb.view(-1, block_size * 20) @ W1 + b1) # (32, 300)\n",
    "    logits = h1 @ W2 + b2 # (32, 50)\n",
    "    loss = F.cross_entropy(logits, Ytr[ix]) # (32,)\n",
    "\n",
    "    # Backward-Pass\n",
    "    for p in parameters:\n",
    "        p.grad = None\n",
    "    loss.backward()\n",
    "\n",
    "    if i < 0.1 * epochs:\n",
    "      lr = 0.3\n",
    "    elif i < 0.2 * epochs:\n",
    "      lr = 0.1\n",
    "    elif i < 0.4 * epochs:\n",
    "      lr = 0.06\n",
    "    else:\n",
    "      lr = 0.03\n",
    "\n",
    "    for p in parameters:\n",
    "        p.data += -lr * p.grad\n",
    "\n",
    "    stepi.append(i)\n",
    "    lossi.append(loss.log10().item())\n",
    "\n",
    "# print('Loss for current mini-batch:', loss.item())"
   ]
  },
  {
   "cell_type": "code",
   "execution_count": 8,
   "metadata": {},
   "outputs": [
    {
     "name": "stdout",
     "output_type": "stream",
     "text": [
      "2.1257266998291016\n"
     ]
    }
   ],
   "source": [
    "# Validation loss\n",
    "emb = C[Xdev] # (32, 3, 2)\n",
    "h = torch.tanh(emb.view(-1, block_size * 20) @ W1 + b1) # (32, 300)\n",
    "logits = h @ W2 + b2 # (32, 27)\n",
    "loss = F.cross_entropy(logits, Ydev)\n",
    "print(loss.item())"
   ]
  },
  {
   "cell_type": "markdown",
   "metadata": {},
   "source": [
    "## Exercise 2 - Weight Initialization\n",
    "\n",
    "**Objective:** I was not careful with the intialization of the network in this video.<br>\n",
    "**(1)** What is the loss you'd get if the predicted probabilities at initialization were perfectly uniform? What loss do we achieve?<br>\n",
    "**(2)** Can you tune the initialization to get a starting loss that is much more similar to (1)?"
   ]
  },
  {
   "cell_type": "code",
   "execution_count": 9,
   "metadata": {},
   "outputs": [
    {
     "name": "stdout",
     "output_type": "stream",
     "text": [
      "18167 parameters\n"
     ]
    }
   ],
   "source": [
    "scaling_factor = 0.01\n",
    "g = torch.Generator().manual_seed(2147483647) # for reproducibility\n",
    "C = torch.randn((27, 20), generator=g) * scaling_factor\n",
    "W1 = torch.randn((block_size * 20, 200), generator=g) * scaling_factor\n",
    "b1 = torch.zeros((200))\n",
    "W2 = torch.randn((200, 27), generator=g) * scaling_factor\n",
    "b2 = torch.zeros((27))  # Zero biases\n",
    "\n",
    "parameters = [C, W1, b1, W2, b2] # Cluster all parameters into one structure\n",
    "\n",
    "print(sum(p.nelement() for p in parameters), 'parameters')\n",
    "\n",
    "for p in parameters:\n",
    "    p.requires_grad = True\n",
    "\n",
    "lossi = []\n",
    "stepi = []"
   ]
  },
  {
   "cell_type": "code",
   "execution_count": 10,
   "metadata": {},
   "outputs": [
    {
     "name": "stderr",
     "output_type": "stream",
     "text": [
      "100%|██████████| 400000/400000 [03:10<00:00, 2096.93it/s]\n"
     ]
    }
   ],
   "source": [
    "epochs = 400_000\n",
    "\n",
    "for i in tqdm.tqdm(range(epochs)):\n",
    "    # mini-batch construct\n",
    "    ix = torch.randint(0, Xtr.shape[0], (128,)) # Batch size was 32 before, now 128\n",
    "\n",
    "    # Forward-Pass\n",
    "    emb = C[Xtr[ix]] # (32, 3, 10)\n",
    "    h1 = torch.tanh(emb.view(-1, block_size * 20) @ W1 + b1) # (32, 300)\n",
    "    logits = h1 @ W2 + b2 # (32, 50)\n",
    "    loss = F.cross_entropy(logits, Ytr[ix]) # (32,)\n",
    "\n",
    "    # Backward-Pass\n",
    "    for p in parameters:\n",
    "        p.grad = None\n",
    "    loss.backward()\n",
    "\n",
    "    if i < 0.1 * epochs:\n",
    "      lr = 0.3\n",
    "    elif i < 0.2 * epochs:\n",
    "      lr = 0.1\n",
    "    elif i < 0.4 * epochs:\n",
    "      lr = 0.06\n",
    "    else:\n",
    "      lr = 0.03\n",
    "\n",
    "    for p in parameters:\n",
    "        p.data += -lr * p.grad\n",
    "\n",
    "    stepi.append(i)\n",
    "    lossi.append(loss.log10().item())"
   ]
  },
  {
   "cell_type": "code",
   "execution_count": 11,
   "metadata": {},
   "outputs": [
    {
     "data": {
      "image/png": "[encoded data removed]",
      "text/plain": [
       "<Figure size 640x480 with 1 Axes>"
      ]
     },
     "metadata": {},
     "output_type": "display_data"
    }
   ],
   "source": [
    "plt.plot(stepi, lossi);"
   ]
  },
  {
   "cell_type": "code",
   "execution_count": 12,
   "metadata": {},
   "outputs": [
    {
     "name": "stdout",
     "output_type": "stream",
     "text": [
      "2.0974793434143066\n"
     ]
    }
   ],
   "source": [
    "# Validation loss\n",
    "emb = C[Xdev] # (32, 3, 2)\n",
    "h = torch.tanh(emb.view(-1, block_size * 20) @ W1 + b1) # (32, 300)\n",
    "logits = h @ W2 + b2 # (32, 27)\n",
    "loss = F.cross_entropy(logits, Ydev)\n",
    "print(loss.item())"
   ]
  },
  {
   "cell_type": "markdown",
   "metadata": {},
   "source": [
    "## Exercise 3 - A Neural Probabilistic Language Model (Bengio et al. 2003)\n",
    "**Objective:** Read the [Bengio et al 2003 paper](https://jmlr.org/papers/volume3/bengio03a/bengio03a.pdf), implement and try any idea from the paper. Did it work?"
   ]
  },
  {
   "cell_type": "code",
   "execution_count": 13,
   "metadata": {},
   "outputs": [
    {
     "name": "stdout",
     "output_type": "stream",
     "text": [
      "18167 parameters\n"
     ]
    }
   ],
   "source": [
    "scaling_factor = 0.01\n",
    "\n",
    "g = torch.Generator().manual_seed(2147483647) # for reproducibility\n",
    "C = torch.randn((27, 20), generator=g) * scaling_factor\n",
    "W1 = torch.randn((block_size * 20, 200), generator=g) * scaling_factor\n",
    "b1 = torch.zeros((200))\n",
    "W2 = torch.randn((200, 27), generator=g) * scaling_factor\n",
    "b2 = torch.zeros((27))  # Zero biases\n",
    "\n",
    "parameters = [C, W1, b1, W2, b2] # Cluster all parameters into one structure\n",
    "\n",
    "print(sum(p.nelement() for p in parameters), 'parameters')\n",
    "\n",
    "for p in parameters:\n",
    "    p.requires_grad = True\n",
    "\n",
    "lossi = []\n",
    "stepi = []"
   ]
  },
  {
   "cell_type": "code",
   "execution_count": 14,
   "metadata": {},
   "outputs": [
    {
     "name": "stderr",
     "output_type": "stream",
     "text": [
      "100%|██████████| 400000/400000 [05:19<00:00, 1250.04it/s]\n"
     ]
    }
   ],
   "source": [
    "epochs = 400_000\n",
    "weight_decay = 1e-5\n",
    "\n",
    "emb_params = [C]\n",
    "nn_params = [W1, b1, W2, b2]\n",
    "\n",
    "for i in tqdm.tqdm(range(epochs)):\n",
    "    # mini-batch construct\n",
    "    ix = torch.randint(0, Xtr.shape[0], (128,)) # Batch size was 32 before, now 256\n",
    "\n",
    "    # Forward-Pass\n",
    "    emb = C[Xtr[ix]] # (32, 3, 10)\n",
    "    h1 = torch.tanh(emb.view(-1, block_size * 20) @ W1 + b1) # (32, 300)\n",
    "    logits = h1 @ W2 + b2 # (32, 50)\n",
    "\n",
    "    # Loss with decayed l2 regularization term added\n",
    "    # L2 represents here what the (kind of ambivalent) regularization term R(θ) is in the paper\n",
    "    l2 = sum((p ** 2.0).sum() for p in parameters)\n",
    "    loss = F.cross_entropy(logits, Ytr[ix]) + weight_decay * l2\n",
    "\n",
    "    # Backward-Pass\n",
    "    for p in parameters:\n",
    "        p.grad = None\n",
    "    loss.backward()\n",
    "\n",
    "    # Different layers get different lr treatments\n",
    "    if i < 0.2 * epochs:\n",
    "        lr_emb, lr_nn = 0.1, 0.3\n",
    "    elif i < 0.3 * epochs:\n",
    "        lr_emb, lr_nn = 0.05, 0.1\n",
    "    elif i < 0.5 * epochs:\n",
    "        lr_emb, lr_nn = 0.03, 0.06\n",
    "    else:\n",
    "        lr_emb, lr_nn = 0.01, 0.03\n",
    "\n",
    "    # Update and decay weights of different layers\n",
    "    for p in emb_params:\n",
    "        p.data += -lr_emb * (p.grad + weight_decay * p)\n",
    "    for p in nn_params:\n",
    "        p.data += -lr_nn * (p.grad + weight_decay * p)\n",
    "\n",
    "    stepi.append(i)\n",
    "    lossi.append(loss.log10().item())"
   ]
  },
  {
   "cell_type": "code",
   "execution_count": 15,
   "metadata": {},
   "outputs": [
    {
     "data": {
      "image/png": "[encoded data removed]",
      "text/plain": [
       "<Figure size 640x480 with 1 Axes>"
      ]
     },
     "metadata": {},
     "output_type": "display_data"
    }
   ],
   "source": [
    "plt.plot(stepi, lossi);"
   ]
  },
  {
   "cell_type": "code",
   "execution_count": 16,
   "metadata": {},
   "outputs": [
    {
     "name": "stdout",
     "output_type": "stream",
     "text": [
      "2.0903823375701904\n"
     ]
    }
   ],
   "source": [
    "# Validation loss\n",
    "emb = C[Xdev] # (32, 3, 2)\n",
    "h = torch.tanh(emb.view(-1, block_size * 20) @ W1 + b1) # (32, 300)\n",
    "logits = h @ W2 + b2 # (32, 27)\n",
    "loss = F.cross_entropy(logits, Ydev)\n",
    "print(loss.item())"
   ]
  }
 ],
 "metadata": {
  "kernelspec": {
   "display_name": "objdetection",
   "language": "python",
   "name": "python3"
  },
  "language_info": {
   "codemirror_mode": {
    "name": "ipython",
    "version": 3
   },
   "file_extension": ".py",
   "mimetype": "text/x-python",
   "name": "python",
   "nbconvert_exporter": "python",
   "pygments_lexer": "ipython3",
   "version": "3.9.21"
  }
 },
 "nbformat": 4,
 "nbformat_minor": 2
}
