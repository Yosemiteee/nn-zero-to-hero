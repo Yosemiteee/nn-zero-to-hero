{
 "cells": [
  {
   "cell_type": "code",
   "execution_count": 1,
   "metadata": {},
   "outputs": [],
   "source": [
    "import torch \n",
    "import torch.nn as nn\n",
    "import torch.nn.functional as F\n",
    "import tiktoken"
   ]
  },
  {
   "cell_type": "markdown",
   "metadata": {},
   "source": [
    "### Building the Dataset"
   ]
  },
  {
   "cell_type": "code",
   "execution_count": 2,
   "metadata": {},
   "outputs": [
    {
     "name": "stdout",
     "output_type": "stream",
     "text": [
      "Length of dataset: 1115394 \n",
      "\n",
      "First Citizen:\n",
      "Before we proceed any further, hear me speak.\n",
      "\n",
      "All:\n",
      "Speak, speak.\n",
      "\n",
      "First Citizen:\n",
      "You\n"
     ]
    }
   ],
   "source": [
    "# Read the txt file to inspect it\n",
    "with open('input.txt', 'r') as f:\n",
    "    text = f.read()\n",
    "\n",
    "print(\"Length of dataset:\", len(text), \"\\n\")\n",
    "print(text[:100]) # First 100 characters"
   ]
  },
  {
   "cell_type": "code",
   "execution_count": 3,
   "metadata": {},
   "outputs": [
    {
     "name": "stdout",
     "output_type": "stream",
     "text": [
      "\n",
      " !$&',-.3:;?ABCDEFGHIJKLMNOPQRSTUVWXYZabcdefghijklmnopqrstuvwxyz\n",
      "\n",
      "Vocabulary size: 65\n"
     ]
    }
   ],
   "source": [
    "chars = sorted(list(set(text))) # Get all unique characters in the text\n",
    "vocab_size = len(chars)         # Length of the vocabulary (this includes the space character)\n",
    "print(''.join(chars))\n",
    "print(f'\\nVocabulary size: {vocab_size}')"
   ]
  },
  {
   "cell_type": "code",
   "execution_count": 4,
   "metadata": {},
   "outputs": [
    {
     "name": "stdout",
     "output_type": "stream",
     "text": [
      "[46, 47, 47, 1, 58, 46, 43, 56, 43]\n",
      "hii there\n"
     ]
    }
   ],
   "source": [
    "# This is both encoder and decoder\n",
    "stoi = { ch:i for i,ch in enumerate(chars) }     # Character to index mapping\n",
    "itos = { i:ch for i,ch in enumerate(chars) }     # Index to character mapping\n",
    "\n",
    "encode = lambda s: [stoi[c] for c in s]          # Encode a string to a list of integers\n",
    "decode = lambda l: ''.join([itos[i] for i in l]) # Decode a list of integers to a string\n",
    "\n",
    "msg = \"hii there\"\n",
    "token_list = encode(msg)\n",
    "print(token_list)\n",
    "print(decode(token_list))"
   ]
  },
  {
   "cell_type": "markdown",
   "metadata": {},
   "source": [
    "### Digression - Tiktoken"
   ]
  },
  {
   "cell_type": "code",
   "execution_count": 5,
   "metadata": {},
   "outputs": [
    {
     "name": "stdout",
     "output_type": "stream",
     "text": [
      "[71, 4178, 612]\n",
      "hii there\n",
      "50257\n"
     ]
    }
   ],
   "source": [
    "enc = tiktoken.get_encoding('gpt2')\n",
    "\n",
    "msg = \"hii there\"\n",
    "token_list = enc.encode(msg)\n",
    "print(token_list) # BPE returns fewer tokens than the character encoding\n",
    "print(enc.decode(enc.encode(\"hii there\")))\n",
    "\n",
    "print(enc.n_vocab) # total amount of tokens in the vocabulary"
   ]
  },
  {
   "cell_type": "markdown",
   "metadata": {},
   "source": [
    "### Tokenizing the Dataset"
   ]
  },
  {
   "cell_type": "code",
   "execution_count": 6,
   "metadata": {},
   "outputs": [
    {
     "name": "stdout",
     "output_type": "stream",
     "text": [
      "Total size: torch.Size([1115394]) elements of type torch.int64\n",
      "First 10 tokens from the dataset: tensor([18, 47, 56, 57, 58,  1, 15, 47, 58, 47])\n"
     ]
    }
   ],
   "source": [
    "# Encode the text into a tensor of integers\n",
    "data = torch.tensor(encode(text), dtype=torch.long)\n",
    "print(f'Total size: {data.shape} elements of type {data.dtype}')\n",
    "print('First 10 tokens from the dataset:', data[:10])"
   ]
  },
  {
   "cell_type": "markdown",
   "metadata": {},
   "source": [
    "### Splitting the Dataset"
   ]
  },
  {
   "cell_type": "code",
   "execution_count": 7,
   "metadata": {},
   "outputs": [],
   "source": [
    "n = int(0.9 * len(data)) # 90% of the data will be used for training and 10% for validation\n",
    "train_data = data[:n]    # 0 to 90-th percentile\n",
    "val_data = data[n:]      # 90-th percentile to the end"
   ]
  },
  {
   "cell_type": "code",
   "execution_count": 8,
   "metadata": {},
   "outputs": [
    {
     "data": {
      "text/plain": [
       "tensor([18, 47, 56, 57, 58,  1, 15, 47, 58])"
      ]
     },
     "execution_count": 8,
     "metadata": {},
     "output_type": "execute_result"
    }
   ],
   "source": [
    "block_size = 8              # Upper limit on the length of the text sequences\n",
    "train_data[:block_size + 1] # First 9 characters (8 + 1 for the target)"
   ]
  },
  {
   "cell_type": "code",
   "execution_count": 9,
   "metadata": {},
   "outputs": [
    {
     "name": "stdout",
     "output_type": "stream",
     "text": [
      "When the prompt is tensor([18]), predict 47\n",
      "When the prompt is tensor([18, 47]), predict 56\n",
      "When the prompt is tensor([18, 47, 56]), predict 57\n",
      "When the prompt is tensor([18, 47, 56, 57]), predict 58\n",
      "When the prompt is tensor([18, 47, 56, 57, 58]), predict 1\n",
      "When the prompt is tensor([18, 47, 56, 57, 58,  1]), predict 15\n",
      "When the prompt is tensor([18, 47, 56, 57, 58,  1, 15]), predict 47\n",
      "When the prompt is tensor([18, 47, 56, 57, 58,  1, 15, 47]), predict 58\n"
     ]
    }
   ],
   "source": [
    "# first block of tokens\n",
    "x = train_data[:block_size]    # e.g. [1, 2, 3, 4, 5, 6, 7, 8]\n",
    "# individual tokens shifted by one (also including the very last token now)\n",
    "y = train_data[1:block_size+1] # e.g. [2, 3, 4, 5, 6, 7, 8, 9]\n",
    "\n",
    "for t in range(block_size):\n",
    "    context = x[:t+1] # context means the prompt\n",
    "    target = y[t]     # the token we want to predict\n",
    "    print(f'When the prompt is {context}, predict {target}')"
   ]
  },
  {
   "cell_type": "code",
   "execution_count": 10,
   "metadata": {},
   "outputs": [],
   "source": [
    "torch.manual_seed(1337)\n",
    "batch_size = 4  # number of sequences in a batch / processed in parallel\n",
    "block_size = 8  # maximum length of the sequence serving as a prompt/context"
   ]
  },
  {
   "cell_type": "code",
   "execution_count": 11,
   "metadata": {},
   "outputs": [
    {
     "name": "stdout",
     "output_type": "stream",
     "text": [
      "inputs shape:  torch.Size([4, 8])\n",
      "tensor([[24, 43, 58,  5, 57,  1, 46, 43],\n",
      "        [44, 53, 56,  1, 58, 46, 39, 58],\n",
      "        [52, 58,  1, 58, 46, 39, 58,  1],\n",
      "        [25, 17, 27, 10,  0, 21,  1, 54]]) \n",
      "\n",
      "targets shape:  torch.Size([4, 8])\n",
      "tensor([[43, 58,  5, 57,  1, 46, 43, 39],\n",
      "        [53, 56,  1, 58, 46, 39, 58,  1],\n",
      "        [58,  1, 58, 46, 39, 58,  1, 46],\n",
      "        [17, 27, 10,  0, 21,  1, 54, 39]]) \n",
      "\n",
      "When the prompt is tensor([24]), predict 43\n",
      "When the prompt is tensor([24, 43]), predict 58\n",
      "When the prompt is tensor([24, 43, 58]), predict 5\n",
      "When the prompt is tensor([24, 43, 58,  5]), predict 57\n",
      "When the prompt is tensor([24, 43, 58,  5, 57]), predict 1\n",
      "When the prompt is tensor([24, 43, 58,  5, 57,  1]), predict 46\n",
      "When the prompt is tensor([24, 43, 58,  5, 57,  1, 46]), predict 43\n",
      "When the prompt is tensor([24, 43, 58,  5, 57,  1, 46, 43]), predict 39\n",
      "When the prompt is tensor([44]), predict 53\n",
      "When the prompt is tensor([44, 53]), predict 56\n",
      "When the prompt is tensor([44, 53, 56]), predict 1\n",
      "When the prompt is tensor([44, 53, 56,  1]), predict 58\n",
      "When the prompt is tensor([44, 53, 56,  1, 58]), predict 46\n",
      "When the prompt is tensor([44, 53, 56,  1, 58, 46]), predict 39\n",
      "When the prompt is tensor([44, 53, 56,  1, 58, 46, 39]), predict 58\n",
      "When the prompt is tensor([44, 53, 56,  1, 58, 46, 39, 58]), predict 1\n",
      "When the prompt is tensor([52]), predict 58\n",
      "When the prompt is tensor([52, 58]), predict 1\n",
      "When the prompt is tensor([52, 58,  1]), predict 58\n",
      "When the prompt is tensor([52, 58,  1, 58]), predict 46\n",
      "When the prompt is tensor([52, 58,  1, 58, 46]), predict 39\n",
      "When the prompt is tensor([52, 58,  1, 58, 46, 39]), predict 58\n",
      "When the prompt is tensor([52, 58,  1, 58, 46, 39, 58]), predict 1\n",
      "When the prompt is tensor([52, 58,  1, 58, 46, 39, 58,  1]), predict 46\n",
      "When the prompt is tensor([25]), predict 17\n",
      "When the prompt is tensor([25, 17]), predict 27\n",
      "When the prompt is tensor([25, 17, 27]), predict 10\n",
      "When the prompt is tensor([25, 17, 27, 10]), predict 0\n",
      "When the prompt is tensor([25, 17, 27, 10,  0]), predict 21\n",
      "When the prompt is tensor([25, 17, 27, 10,  0, 21]), predict 1\n",
      "When the prompt is tensor([25, 17, 27, 10,  0, 21,  1]), predict 54\n",
      "When the prompt is tensor([25, 17, 27, 10,  0, 21,  1, 54]), predict 39\n"
     ]
    }
   ],
   "source": [
    "def get_batch(split, batch_size):\n",
    "    # Generate a batch of inputs/prompts x and respective targets y\n",
    "    # batches are always of shape (batch_size, block_size)\n",
    "    data = train_data if split == 'train' else val_data\n",
    "    # Tensor of shape (batch_size,) with random sequence start indices between 0 and len(data) - block_size\n",
    "    ix = torch.randint(len(data) - block_size, (batch_size,))\n",
    "    # Accumulate and add each sequence of this batch to form a tensor\n",
    "    x = torch.stack([data[i:i+block_size] for i in ix])\n",
    "    # Same as x but shifted by one token\n",
    "    y = torch.stack([data[i+1:i+block_size+1] for i in ix])\n",
    "    return x, y # x is (4,8), y is (4,8) too\n",
    "\n",
    "# Get a batch of inputs and targets\n",
    "xb, yb = get_batch('train', batch_size)\n",
    "\n",
    "# Print the shape of the batch and the actual data\n",
    "print('inputs shape: ', xb.shape)\n",
    "print(xb,'\\n')\n",
    "print('targets shape: ', yb.shape)\n",
    "print(yb, '\\n')\n",
    "\n",
    "# Print the first batch\n",
    "for b in range(batch_size):     # batch dimension, number of sequences in the batch (batch_size)\n",
    "    for t in range(block_size): # time dimension, number of tokens in the sequence  (block_size)\n",
    "        context = xb[b, :t+1]   # context means prompt, taking the first t+1 tokens from the b-th sequence in the batch\n",
    "        target = yb[b, t]       # we take the t-th token from the b-th sequence in the batch for the target (the token we want to predict)\n",
    "        print(f'When the prompt is {context}, predict {target}')\n",
    "        # This context <-> target pair is what we feed to the model, it's variable in length"
   ]
  },
  {
   "cell_type": "markdown",
   "metadata": {},
   "source": [
    "### Embedding Layer"
   ]
  },
  {
   "cell_type": "code",
   "execution_count": 12,
   "metadata": {},
   "outputs": [
    {
     "name": "stdout",
     "output_type": "stream",
     "text": [
      "Vocabulary size: 65\n",
      "torch.Size([4, 8, 65])\n"
     ]
    }
   ],
   "source": [
    "torch.manual_seed(1337) # for reproducibility\n",
    "\n",
    "# Not really an LM at this stage, but we will get there...\n",
    "class BigramLM(nn.Module):\n",
    "\n",
    "    def __init__(self, vocab_size):\n",
    "        super().__init__()\n",
    "        # Embedding the vocabulary\n",
    "        # Every one of the vocab_size tokens is represented by a vector of size vocab_size\n",
    "        self.embed = nn.Embedding(vocab_size, vocab_size) # 65 unique 65-dim vectors\n",
    "\n",
    "    def forward(self, idx, targets):\n",
    "        # idx is of shape (batch_size, block_size)\n",
    "        # targets is of shape (batch_size, block_size)\n",
    "        # Embed the input indices, shape is now (batch_size, block_size, vocab_size) (B, T, C)\n",
    "        logits = self.embed(idx)\n",
    "        return logits\n",
    "\n",
    "\n",
    "print('Vocabulary size:', vocab_size)  # Length of the vocabulary list (this includes the space character)\n",
    "m = BigramLM(vocab_size)  # Instantiate the model\n",
    "out = m(xb, yb)           # Forward pass (yb remains unused for now)\n",
    "print(out.shape)          # (batch_size, block_size, vocab_size) -> 4 times 8 characters, each embedded as a 65-dim vector"
   ]
  },
  {
   "cell_type": "markdown",
   "metadata": {},
   "source": [
    "### Setting up a Loss Function"
   ]
  },
  {
   "cell_type": "code",
   "execution_count": 13,
   "metadata": {},
   "outputs": [
    {
     "name": "stdout",
     "output_type": "stream",
     "text": [
      "torch.Size([32, 65])\n",
      "4.878634929656982\n"
     ]
    }
   ],
   "source": [
    "torch.manual_seed(1337)\n",
    "\n",
    "class BigramLM(nn.Module):\n",
    "\n",
    "    def __init__(self, vocab_size):\n",
    "        super().__init__()\n",
    "        self.embed = nn.Embedding(vocab_size, vocab_size)  # Embedding the vocabulary, each individual token is represented by a vector of size vocab_size\n",
    "\n",
    "    def forward(self, idx, targets):\n",
    "        logits = self.embed(idx)      # Embed the input indices, shape is now (batch_size, block_size, vocab_size) (B, T, C)\n",
    "        B, T, C = logits.shape        # B = batch_size, T = block_size, C = vocab_size\n",
    "        logits = logits.view(B*T, C)  # Transpose logits to (B*T, C)\n",
    "        # This is the first time we actively use the targets:\n",
    "        targets = targets.view(B*T)   # Transpose targets to (B*T) (targets contains the next token's index for each input sequence in the batch)\n",
    "        loss = F.cross_entropy(logits, targets)  # Calculating cross entropy loss across all tokens in the batch (using targets to plug out the correct token for each input sequence)\n",
    "        return logits, loss\n",
    "\n",
    "\n",
    "m = BigramLM(vocab_size)  # Instantiate the model\n",
    "logits, loss = m(xb, yb)  # Forward pass (xb becomes embedded, yb is used to calculate the loss)\n",
    "print(logits.shape)       # (batch_size * block_size, vocab_size)\n",
    "print(loss.item())        # Loss value"
   ]
  },
  {
   "cell_type": "code",
   "execution_count": 14,
   "metadata": {},
   "outputs": [
    {
     "name": "stdout",
     "output_type": "stream",
     "text": [
      "torch.Size([32, 65])\n",
      "tensor(4.8786, grad_fn=<NllLossBackward0>)\n"
     ]
    }
   ],
   "source": [
    "torch.manual_seed(1337)\n",
    "\n",
    "class BigramLM(nn.Module):\n",
    "\n",
    "    def __init__(self, vocab_size):\n",
    "        super().__init__()\n",
    "        self.embed = nn.Embedding(vocab_size, vocab_size)      # Embedding the vocabulary, each individual token is represented by a vector of size vocab_size\n",
    "\n",
    "    def forward(self, idx, targets=None):\n",
    "        logits = self.embed(idx)                               # Embed the input indices, shape is now (batch_size, block_size, vocab_size) (B, T, C)\n",
    "        if targets is None:\n",
    "            loss = None\n",
    "        else:\n",
    "            B, T, C = logits.shape\n",
    "            logits = logits.view(B*T, C)                       # Transpose logits to (B, C, T) (B=batch_size, T=block_size, C=vocab_size)\n",
    "            targets = targets.view(B*T)                        # Transpose targets to (B, T)\n",
    "            loss = F.cross_entropy(logits, targets)            # Calculating cross entropy loss across all tokens in the batch\n",
    "        return logits, loss\n",
    "\n",
    "    # Generate new tokens based on respective last token of a sequence\n",
    "    def generate(self, idx, max_new_tokens):\n",
    "        for _ in range(max_new_tokens):\n",
    "            logits, _ = self(idx)                              # Forward pass (this is the forward function) with the current sequence of characters idx, results in (B, T, C)\n",
    "            logits = logits[:, -1, :]                          # Focus on the last token from the logits (B, T, C) -> (B, C)\n",
    "            probs = F.softmax(logits, dim=-1)                  # Calculate the probability distribution for the next token based on this last token, results in (B, C)\n",
    "            idx_next = torch.multinomial(probs, num_samples=1) # Sample the next token (B, 1), the token with the highest probability is sampled most likely\n",
    "            idx = torch.cat((idx, idx_next), dim=1)            # Add the new token to the sequence (B, T+1) for the next iteration\n",
    "        return idx                                             # Return the sequence of tokens (B, T+1), these are characters\n",
    "\n",
    "m = BigramLM(vocab_size)  # Instantiate the model\n",
    "logits, loss = m(xb, yb)  # Forward pass\n",
    "\n",
    "print(logits.shape)       # (batch_size, block_size, vocab_size)\n",
    "print(loss) # Loss value"
   ]
  },
  {
   "cell_type": "markdown",
   "metadata": {},
   "source": [
    "### Producing The First Text"
   ]
  },
  {
   "cell_type": "code",
   "execution_count": 15,
   "metadata": {},
   "outputs": [
    {
     "name": "stdout",
     "output_type": "stream",
     "text": [
      "torch.Size([1, 101])\n",
      "\n",
      "Sr?qP-QWktXoL&jLDJgOLVz'RIoDqHdhsV&vLLxatjscMpwLERSPyao.qfzs$Ys$zF-w,;eEkzxjgCKFChs!iWW.ObzDnxA Ms$3\n"
     ]
    }
   ],
   "source": [
    "ix = torch.zeros((1, 1), dtype=torch.long)  # Start with a single tensor of shape (1, 1) holding a 0 (new line)\n",
    "tokens = m.generate(ix, max_new_tokens=100) # Generate 100 tokens as a sequence of indices\n",
    "print(tokens.shape)                         # Print the shape of the resulting sequence of tokens\n",
    "print(decode(tokens[0].tolist()))           # Decode the resulting sequence of indices to a string"
   ]
  },
  {
   "cell_type": "code",
   "execution_count": 16,
   "metadata": {},
   "outputs": [],
   "source": [
    "# Create a PyTorch Optimizer\n",
    "# Instantiate AdamW optimizer with the model parameters (weights) \n",
    "# and a learning rate of 0.001 (often used value for *small* networks)\n",
    "opt = torch.optim.AdamW(m.parameters(), lr=1e-3)"
   ]
  },
  {
   "cell_type": "code",
   "execution_count": 17,
   "metadata": {},
   "outputs": [
    {
     "name": "stdout",
     "output_type": "stream",
     "text": [
      "Loss at step 0: 4.704006195068359\n",
      "Loss at step 100: 4.658433437347412\n",
      "Loss at step 200: 4.470171928405762\n",
      "Loss at step 300: 4.320702075958252\n",
      "Loss at step 400: 4.252743721008301\n",
      "Loss at step 500: 4.241008758544922\n",
      "Loss at step 600: 4.161406517028809\n",
      "Loss at step 700: 4.044336795806885\n",
      "Loss at step 800: 4.091874122619629\n",
      "Loss at step 900: 3.7458465099334717\n",
      "Loss at step 1000: 3.7031264305114746\n",
      "Loss at step 1100: 3.7115283012390137\n",
      "Loss at step 1200: 3.6330997943878174\n",
      "Loss at step 1300: 3.422212600708008\n",
      "Loss at step 1400: 3.4295449256896973\n",
      "Loss at step 1500: 3.4233598709106445\n",
      "Loss at step 1600: 3.3018524646759033\n",
      "Loss at step 1700: 3.283510446548462\n",
      "Loss at step 1800: 3.188281774520874\n",
      "Loss at step 1900: 3.2000553607940674\n",
      "Loss at step 2000: 3.1371781826019287\n",
      "Loss at step 2100: 3.0028276443481445\n",
      "Loss at step 2200: 3.058077812194824\n",
      "Loss at step 2300: 2.958632707595825\n",
      "Loss at step 2400: 2.9813663959503174\n",
      "Loss at step 2500: 2.9196817874908447\n",
      "Loss at step 2600: 2.8414011001586914\n",
      "Loss at step 2700: 2.8905837535858154\n",
      "Loss at step 2800: 2.9735329151153564\n",
      "Loss at step 2900: 2.808624029159546\n",
      "Loss at step 3000: 2.776794672012329\n",
      "Loss at step 3100: 2.748556137084961\n",
      "Loss at step 3200: 2.687368392944336\n",
      "Loss at step 3300: 2.682086706161499\n",
      "Loss at step 3400: 2.688863754272461\n",
      "Loss at step 3500: 2.809856653213501\n",
      "Loss at step 3600: 2.6931400299072266\n",
      "Loss at step 3700: 2.665353298187256\n",
      "Loss at step 3800: 2.632939100265503\n",
      "Loss at step 3900: 2.75382924079895\n",
      "Loss at step 4000: 2.5844571590423584\n",
      "Loss at step 4100: 2.630505323410034\n",
      "Loss at step 4200: 2.6259851455688477\n",
      "Loss at step 4300: 2.5507774353027344\n",
      "Loss at step 4400: 2.5834596157073975\n",
      "Loss at step 4500: 2.6057393550872803\n",
      "Loss at step 4600: 2.6198649406433105\n",
      "Loss at step 4700: 2.5730926990509033\n",
      "Loss at step 4800: 2.5133121013641357\n",
      "Loss at step 4900: 2.608804941177368\n",
      "Loss at step 5000: 2.5105180740356445\n",
      "Loss at step 5100: 2.574131727218628\n",
      "Loss at step 5200: 2.4975621700286865\n",
      "Loss at step 5300: 2.525254487991333\n",
      "Loss at step 5400: 2.4852945804595947\n",
      "Loss at step 5500: 2.5480153560638428\n",
      "Loss at step 5600: 2.577272415161133\n",
      "Loss at step 5700: 2.602153778076172\n",
      "Loss at step 5800: 2.3584301471710205\n",
      "Loss at step 5900: 2.448211908340454\n",
      "Loss at step 6000: 2.531585931777954\n",
      "Loss at step 6100: 2.497115135192871\n",
      "Loss at step 6200: 2.446481943130493\n",
      "Loss at step 6300: 2.4474494457244873\n",
      "Loss at step 6400: 2.5307929515838623\n",
      "Loss at step 6500: 2.4708240032196045\n",
      "Loss at step 6600: 2.5558059215545654\n",
      "Loss at step 6700: 2.469895839691162\n",
      "Loss at step 6800: 2.605414867401123\n",
      "Loss at step 6900: 2.5706934928894043\n",
      "Loss at step 7000: 2.504757881164551\n",
      "Loss at step 7100: 2.444789171218872\n",
      "Loss at step 7200: 2.5223405361175537\n",
      "Loss at step 7300: 2.4506444931030273\n",
      "Loss at step 7400: 2.410496234893799\n",
      "Loss at step 7500: 2.400172472000122\n",
      "Loss at step 7600: 2.4295127391815186\n",
      "Loss at step 7700: 2.424211025238037\n",
      "Loss at step 7800: 2.494037389755249\n",
      "Loss at step 7900: 2.438490390777588\n",
      "Loss at step 8000: 2.4696717262268066\n",
      "Loss at step 8100: 2.4945294857025146\n",
      "Loss at step 8200: 2.4096617698669434\n",
      "Loss at step 8300: 2.6117146015167236\n",
      "Loss at step 8400: 2.4675140380859375\n",
      "Loss at step 8500: 2.4209394454956055\n",
      "Loss at step 8600: 2.4633748531341553\n",
      "Loss at step 8700: 2.4416558742523193\n",
      "Loss at step 8800: 2.634512186050415\n",
      "Loss at step 8900: 2.3378663063049316\n",
      "Loss at step 9000: 2.4838879108428955\n",
      "Loss at step 9100: 2.534738779067993\n",
      "Loss at step 9200: 2.58534574508667\n",
      "Loss at step 9300: 2.3732097148895264\n",
      "Loss at step 9400: 2.4463818073272705\n",
      "Loss at step 9500: 2.407996892929077\n",
      "Loss at step 9600: 2.525811195373535\n",
      "Loss at step 9700: 2.521479845046997\n",
      "Loss at step 9800: 2.4382166862487793\n",
      "Loss at step 9900: 2.4321024417877197\n"
     ]
    }
   ],
   "source": [
    "batch_size = 32 # Increasing the batch size from 4 to 32\n",
    "losses = []\n",
    "\n",
    "# Train for 10000 steps/batches\n",
    "for steps in range(10000):\n",
    "    xb, yb = get_batch('train', batch_size) # Sample a batch of data\n",
    "    logits, loss = m(xb, yb)                # Forward pass, calculate the loss\n",
    "    loss.backward()                         # Backprop with PyTorch's autograd \n",
    "                                            # (effectively just updating the logits/the embedding vectors)\n",
    "    opt.step()                              # Update the weights\n",
    "    opt.zero_grad()                         # Set the gradients to zero\n",
    "\n",
    "    # Print the loss every 100 steps\n",
    "    if steps % 100 == 0:\n",
    "        print(f'Loss at step {steps}: {loss.item()}')\n",
    "        losses.append(loss.item())"
   ]
  },
  {
   "cell_type": "code",
   "execution_count": 18,
   "metadata": {},
   "outputs": [
    {
     "name": "stdout",
     "output_type": "stream",
     "text": [
      "\n",
      "Iyoteng h hasbe pave pirance\n",
      "Rie hicomyonthar's\n",
      "Plinseard ith henoure wounonthioneir thondy, y heltieiengerofo'dsssit ey\n",
      "KIN d pe wither vouprrouthercc.\n",
      "hathe; d!\n",
      "My hind tt hinig t ouchos tes; st yo hind wotte grotonear 'so it t jod weancotha:\n",
      "h hay.JUCle n prids, r loncave w hollular s O:\n",
      "HIs; ht anjx?\n",
      "\n",
      "DUThinqunt.\n",
      "\n",
      "LaZAnde.\n",
      "athave l.\n",
      "KEONH:\n",
      "ARThanco be y,-hedarwnoddy scace, tridesar, wnl'shenous s ls, theresseys\n",
      "PlorseelapinghiybHen yof GLUCEN t l-t E:\n",
      "I hisgothers je are!-e!\n",
      "QLYotouciullle'z\n"
     ]
    }
   ],
   "source": [
    "print(decode(m.generate(torch.zeros((1, 1), dtype=torch.long), max_new_tokens=500)[0].tolist()))"
   ]
  },
  {
   "cell_type": "code",
   "execution_count": 19,
   "metadata": {},
   "outputs": [
    {
     "data": {
      "image/png": "[encoded data removed]",
      "text/plain": [
       "<Figure size 640x480 with 1 Axes>"
      ]
     },
     "metadata": {},
     "output_type": "display_data"
    }
   ],
   "source": [
    "from matplotlib import pyplot as plt\n",
    "plt.plot(losses);"
   ]
  },
  {
   "cell_type": "code",
   "execution_count": 20,
   "metadata": {},
   "outputs": [
    {
     "name": "stdout",
     "output_type": "stream",
     "text": [
      "Iter    0 | Train Loss 2.4641 | Val Loss 2.4913\n",
      "Iter  500 | Train Loss 2.4795 | Val Loss 2.4841\n",
      "Iter 1000 | Train Loss 2.4736 | Val Loss 2.4765\n",
      "Iter 1500 | Train Loss 2.4727 | Val Loss 2.4847\n",
      "Iter 2000 | Train Loss 2.4597 | Val Loss 2.4865\n",
      "Iter 2500 | Train Loss 2.4558 | Val Loss 2.4824\n",
      "Iter 3000 | Train Loss 2.4712 | Val Loss 2.4832\n",
      "Iter 3500 | Train Loss 2.4614 | Val Loss 2.4743\n",
      "Iter 4000 | Train Loss 2.4654 | Val Loss 2.4816\n",
      "Iter 4500 | Train Loss 2.4545 | Val Loss 2.4749\n",
      "Iter 5000 | Train Loss 2.4641 | Val Loss 2.4772\n",
      "Iter 5500 | Train Loss 2.4518 | Val Loss 2.4795\n",
      "Iter 6000 | Train Loss 2.4569 | Val Loss 2.4809\n",
      "Iter 6500 | Train Loss 2.4540 | Val Loss 2.4837\n",
      "Iter 7000 | Train Loss 2.4464 | Val Loss 2.4752\n",
      "Iter 7500 | Train Loss 2.4587 | Val Loss 2.4739\n",
      "Iter 8000 | Train Loss 2.4590 | Val Loss 2.4771\n",
      "Iter 8500 | Train Loss 2.4469 | Val Loss 2.4736\n",
      "Iter 9000 | Train Loss 2.4513 | Val Loss 2.4772\n",
      "Iter 9500 | Train Loss 2.4574 | Val Loss 2.4792\n",
      "\n",
      "Anit stho aree.\n",
      "YONIste t\n",
      "RYBur s;\n",
      "\n",
      "Than toure we k, thoringothithanfow, wind, me ESp ccid se buauloithinord pu thut ard\n",
      "IORO: ld, hyodrer a k, mousset, in, tise ill eirisetes ik d!\n",
      "Forellll ayoumerpr ade t:\n",
      "ENINCIZAMPO: g feath Le wrss id d widothathar myoustowimseeener ld wounken h,\n",
      "\n",
      "\n",
      "\n",
      "iplantoy mith cheacrilldshan, wnos;\n",
      "\n",
      "oular n. wat, erst?\n",
      "CEvieen ld wo beit,\n",
      "\n",
      "Angre beamay be utheertothe t hsalo taladads't ng ctharnoft ghive\n",
      "\n",
      "Thamo, an hir e hin.\n",
      "\n",
      "HNEONong ayor, cace\n",
      "An f hacl tat or veathat\n"
     ]
    }
   ],
   "source": [
    "eval_iters = 200\n",
    "max_iters = 10000\n",
    "eval_interval = 500\n",
    "\n",
    "@torch.no_grad() # Disable gradient calculation for this function\n",
    "def evaluate_loss():\n",
    "    out = {}\n",
    "    m.eval() # Set model to evaluation mode\n",
    "    for split in ['train', 'val']:\n",
    "        losses = torch.zeros(eval_iters)\n",
    "        for k in range(eval_iters):\n",
    "            X, Y = get_batch(split, batch_size)\n",
    "            _, loss = m(X, Y)\n",
    "            losses[k] = loss.item()\n",
    "        out[split] = losses.mean()\n",
    "    m.train() # Set model back to training mode\n",
    "    return out\n",
    "\n",
    "train_losses = []\n",
    "\n",
    "# Training\n",
    "for iter in range(max_iters):\n",
    "    xb, yb = get_batch('train', batch_size) # Get batch\n",
    "    logits, loss = m(xb, yb)                # Forward pass\n",
    "    loss.backward()                         # Backward pass\n",
    "    opt.step()                        # Update parameters\n",
    "    opt.zero_grad(set_to_none=True)   # Reset gradients\n",
    "\n",
    "    if iter % eval_interval == 0:\n",
    "        losses = evaluate_loss()\n",
    "        train_losses.append(losses[\"train\"].item())\n",
    "        print(f'Iter {iter:4d} | Train Loss {losses[\"train\"]:6.4f} | Val Loss {losses[\"val\"]:6.4f}')\n",
    "\n",
    "# Generate text from the model\n",
    "context = torch.zeros((1, 1), dtype=torch.long) # Start with a zero context\n",
    "print(decode(m.generate(context, max_new_tokens=500)[0].tolist()))"
   ]
  },
  {
   "cell_type": "code",
   "execution_count": 21,
   "metadata": {},
   "outputs": [
    {
     "data": {
      "image/png": "[encoded data removed]",
      "text/plain": [
       "<Figure size 640x480 with 1 Axes>"
      ]
     },
     "metadata": {},
     "output_type": "display_data"
    }
   ],
   "source": [
    "plt.plot(train_losses);"
   ]
  },
  {
   "cell_type": "markdown",
   "metadata": {},
   "source": [
    "### The mathematical trick in self-attention"
   ]
  },
  {
   "cell_type": "code",
   "execution_count": 22,
   "metadata": {},
   "outputs": [],
   "source": [
    "torch.manual_seed(1337)  # Set seed for reproducibility\n",
    "B, T, C = 4, 8, 2        # Batch size, block size, vocab size\n",
    "x = torch.randn(B, T, C) # Random numbers form a tensor of shape (B, T, C)"
   ]
  },
  {
   "cell_type": "code",
   "execution_count": 23,
   "metadata": {},
   "outputs": [
    {
     "name": "stdout",
     "output_type": "stream",
     "text": [
      "Batch [0]:\n",
      " tensor([[ 0.1808, -0.0700],\n",
      "        [-0.3596, -0.9152],\n",
      "        [ 0.6258,  0.0255],\n",
      "        [ 0.9545,  0.0643],\n",
      "        [ 0.3612,  1.1679],\n",
      "        [-1.3499, -0.5102],\n",
      "        [ 0.2360, -0.2398],\n",
      "        [-0.9211,  1.5433]]) \n",
      "\n",
      "Running Averages:\n",
      " tensor([[ 0.1808, -0.0700],\n",
      "        [-0.0894, -0.4926],\n",
      "        [ 0.1490, -0.3199],\n",
      "        [ 0.3504, -0.2238],\n",
      "        [ 0.3525,  0.0545],\n",
      "        [ 0.0688, -0.0396],\n",
      "        [ 0.0927, -0.0682],\n",
      "        [-0.0341,  0.1332]])\n"
     ]
    }
   ],
   "source": [
    "# We want x[b, t] = mean_{i <= t} x[b, i]\n",
    "xbow = torch.zeros((B, T, C))          # Create tensor of zeros of shape (B, T, C) (bag of words representation of the input)\n",
    "for b in range(B):                     # For all batches\n",
    "    for t in range(T):                 # For all tokens in the batch\n",
    "        xprev = x[b, :t+1]             # Get all tokens up to and including the current token (t, C)\n",
    "        xbow[b, t] = xprev.mean(dim=0) # Calculate the mean of the tokens up to and including the current token\n",
    "\n",
    "print('Batch [0]:\\n', x[0], \"\\n\")     # First batch of 8 tokens, each of size 2\n",
    "print('Running Averages:\\n', xbow[0]) # Running averages of the first batch of 8 tokens, each of size 2"
   ]
  },
  {
   "cell_type": "code",
   "execution_count": 24,
   "metadata": {},
   "outputs": [
    {
     "name": "stdout",
     "output_type": "stream",
     "text": [
      "a (ones) =\n",
      "tensor([[1., 1., 1.],\n",
      "        [1., 1., 1.],\n",
      "        [1., 1., 1.]])\n",
      "\n",
      "b (random) =\n",
      "tensor([[2., 7.],\n",
      "        [6., 4.],\n",
      "        [6., 5.]])\n",
      "\n",
      "c = a @ b =\n",
      "tensor([[14., 16.],\n",
      "        [14., 16.],\n",
      "        [14., 16.]])\n",
      "\n"
     ]
    }
   ],
   "source": [
    "# Consider the following example\n",
    "\n",
    "torch.manual_seed(42)\n",
    "a = torch.ones(3, 3)                        # 3x3 matrix of ones\n",
    "b = torch.randint(0, 10, (3, 2)).float()    # 3x2 matrix of random integers between 0 and 9\n",
    "c = a @ b                                   # Matrix multiplication of a and b\n",
    "print(f'a (ones) =\\n{a}\\n')\n",
    "print(f'b (random) =\\n{b}\\n')\n",
    "print(f'c = a @ b =\\n{c}\\n')"
   ]
  },
  {
   "cell_type": "code",
   "execution_count": 25,
   "metadata": {},
   "outputs": [
    {
     "name": "stdout",
     "output_type": "stream",
     "text": [
      "a (ones + tril + avg) =\n",
      "tensor([[1.0000, 0.0000, 0.0000],\n",
      "        [0.5000, 0.5000, 0.0000],\n",
      "        [0.3333, 0.3333, 0.3333]])\n",
      "\n",
      "b (random) =\n",
      "tensor([[2., 7.],\n",
      "        [6., 4.],\n",
      "        [6., 5.]])\n",
      "\n",
      "c = a @ b =\n",
      "tensor([[2.0000, 7.0000],\n",
      "        [4.0000, 5.5000],\n",
      "        [4.6667, 5.3333]])\n",
      "\n"
     ]
    }
   ],
   "source": [
    "torch.manual_seed(42)\n",
    "a = torch.tril(torch.ones(3, 3))   # Lower triangular matrix of ones\n",
    "a = a / a.sum(dim=1, keepdim=True) # Normalize the matrix by dividing along each row\n",
    "b = torch.randint(0, 10, (3, 2)).float() # 3x2 matrix of random integers between 0 and 9\n",
    "c = a @ b                                # Matrix multiplication of a and b\n",
    "\n",
    "print(f'a (ones + tril + avg) =\\n{a}\\n')\n",
    "print(f'b (random) =\\n{b}\\n')\n",
    "print(f'c = a @ b =\\n{c}\\n')"
   ]
  },
  {
   "cell_type": "code",
   "execution_count": 26,
   "metadata": {},
   "outputs": [
    {
     "data": {
      "text/plain": [
       "True"
      ]
     },
     "execution_count": 26,
     "metadata": {},
     "output_type": "execute_result"
    }
   ],
   "source": [
    "#Goal: We want x[b, t] to be mean_{i <= t} for x[b, i]\n",
    "B, T, C = 4, 8, 2        # Batch size, block size, vocab size\n",
    "x = torch.randn(B, T, C) # Random input of shape (B, T, C)\n",
    "\n",
    "# Old:\n",
    "xbow = torch.zeros((B, T, C))          # Create tensor of zeros of shape (B, T, C) (bag of words representation of the input)\n",
    "for b in range(B):                     # For all batches\n",
    "    for t in range(T):                 # For all tokens in the batch\n",
    "        xprev = x[b, :t+1]             # Get all tokens up to and including the current token (t, C)\n",
    "        xbow[b, t] = xprev.mean(dim=0) # Calculate the mean of the tokens up to and including the current token\n",
    "\n",
    "# New:\n",
    "wei = torch.tril(torch.ones(T, T))       # Lower triangular matrix of ones\n",
    "wei = wei / wei.sum(dim=1, keepdim=True) # Normalizing wei by dividing by the sum of each row\n",
    "xbow2 = wei @ x # (T, T) @ (B, T, C) -> PyTorch's Auto-Stride -> (B, T, T) @ (B, T, C) = (B, T, C)\n",
    "\n",
    "torch.allclose(xbow, xbow2) # True"
   ]
  },
  {
   "cell_type": "code",
   "execution_count": 27,
   "metadata": {},
   "outputs": [
    {
     "data": {
      "text/plain": [
       "True"
      ]
     },
     "execution_count": 27,
     "metadata": {},
     "output_type": "execute_result"
    }
   ],
   "source": [
    "# New:\n",
    "wei = torch.tril(torch.ones(T, T))       # Lower triangular matrix of ones\n",
    "wei = wei / wei.sum(dim=1, keepdim=True) # Normalizing wei by dividing by the sum of each row\n",
    "xbow2 = wei @ x                          # (T, T) @ (B, T, C) -> (B, T, T) @ (B, T, C) = (B, T, C)\n",
    "\n",
    "# Newer:\n",
    "tril = torch.tril(torch.ones(T, T))             # Lower triangular matrix of ones\n",
    "\n",
    "wei = torch.zeros((T, T))                       # (T, T)\n",
    "wei = wei.masked_fill(tril == 0, float('-inf')) # Masking all values in wei where tril == 0 with -inf\n",
    "wei = F.softmax(wei, dim=-1)                    # (T, T)\n",
    "\n",
    "xbow3 = wei @ x                                 # (T, T) @ (B, T, C) -> (B, T, T) @ (B, T, C) = (B, T, C)\n",
    "\n",
    "torch.allclose(xbow2, xbow3)                     # True"
   ]
  },
  {
   "cell_type": "code",
   "execution_count": 28,
   "metadata": {},
   "outputs": [
    {
     "name": "stdout",
     "output_type": "stream",
     "text": [
      "tensor([[0.5000, 0.5000, 0.0000, 0.0000, 0.0000, 0.0000, 0.0000],\n",
      "        [0.3333, 0.3333, 0.3333, 0.0000, 0.0000, 0.0000, 0.0000]])\n"
     ]
    }
   ],
   "source": [
    "exwei = torch.tensor([[0, 0, float('-inf'), float('-inf'), float('-inf'), float('-inf'), float('-inf')], \n",
    "                      [0, 0, 0, float('-inf'), float('-inf'), float('-inf'), float('-inf')]])\n",
    "exsof = F.softmax(exwei, dim=-1) # -1 means the last dimension\n",
    "print(exsof)"
   ]
  },
  {
   "cell_type": "code",
   "execution_count": 29,
   "metadata": {},
   "outputs": [
    {
     "name": "stdout",
     "output_type": "stream",
     "text": [
      "tensor([[1.0000, 0.0000, 0.0000, 0.0000, 0.0000, 0.0000, 0.0000, 0.0000],\n",
      "        [0.5000, 0.5000, 0.0000, 0.0000, 0.0000, 0.0000, 0.0000, 0.0000],\n",
      "        [0.3333, 0.3333, 0.3333, 0.0000, 0.0000, 0.0000, 0.0000, 0.0000]])\n"
     ]
    }
   ],
   "source": [
    "tril = torch.tril(torch.ones(T, T))             # Lower triangular matrix of ones\n",
    "wei = torch.zeros((T, T))                       # (T, T)\n",
    "wei = wei.masked_fill(tril == 0, float('-inf')) # Masking all values in wei where tril == 0 with -inf\n",
    "wei = F.softmax(wei, dim=-1)                    # (T, T)\n",
    "xbow3 = wei @ x                                 # (T, T) @ (B, T, C) -> (B, T, T) @ (B, T, C) = (B, T, C)\n",
    "\n",
    "print(wei[0:3])"
   ]
  },
  {
   "cell_type": "markdown",
   "metadata": {},
   "source": [
    "### Building Self-Attention"
   ]
  },
  {
   "cell_type": "code",
   "execution_count": 30,
   "metadata": {},
   "outputs": [
    {
     "name": "stdout",
     "output_type": "stream",
     "text": [
      "tensor([[1.0000, 0.0000, 0.0000, 0.0000, 0.0000, 0.0000, 0.0000, 0.0000],\n",
      "        [0.1574, 0.8426, 0.0000, 0.0000, 0.0000, 0.0000, 0.0000, 0.0000],\n",
      "        [0.2088, 0.1646, 0.6266, 0.0000, 0.0000, 0.0000, 0.0000, 0.0000],\n",
      "        [0.5792, 0.1187, 0.1889, 0.1131, 0.0000, 0.0000, 0.0000, 0.0000],\n",
      "        [0.0294, 0.1052, 0.0469, 0.0276, 0.7909, 0.0000, 0.0000, 0.0000],\n",
      "        [0.0176, 0.2689, 0.0215, 0.0089, 0.6812, 0.0019, 0.0000, 0.0000],\n",
      "        [0.1691, 0.4066, 0.0438, 0.0416, 0.1048, 0.2012, 0.0329, 0.0000],\n",
      "        [0.0210, 0.0843, 0.0555, 0.2297, 0.0573, 0.0709, 0.2423, 0.2391]],\n",
      "       grad_fn=<SelectBackward0>)\n"
     ]
    }
   ],
   "source": [
    "# Version 4: Self-Attention\n",
    "torch.manual_seed(1337)\n",
    "\n",
    "B, T, C = 4, 8, 32        # Batch size, block size, vocab size (each token is a vector of size 32)\n",
    "x = torch.randn(B, T, C)  # Random input of shape (B, T, C)\n",
    "\n",
    "head_size = 16\n",
    "key = nn.Linear(C, head_size, bias=False)   # No bias so that solely fixed weight matrix multiplication is performed\n",
    "query = nn.Linear(C, head_size, bias=False) # No bias so that solely fixed weight matrix multiplication is performed\n",
    "value = nn.Linear(C, head_size, bias=False) # No bias so that solely fixed weight matrix multiplication is performed\n",
    "\n",
    "k = key(x)   # (B, T, C) -> (B, T, head_size)\n",
    "q = query(x) # (B, T, C) -> (B, T, head_size)\n",
    "\n",
    "wei = q @ k.transpose(-2, -1)  # (B, T, head_size) @ (B, head_size, T) = (B, T, T) (T is the block_size)\n",
    "\n",
    "tril = torch.tril(torch.ones(T, T))             # Lower triangular matrix of ones\n",
    "#wei = torch.zeros((T, T))                      # (T, T)\n",
    "wei = wei.masked_fill(tril == 0, float('-inf')) # Masking all values in wei where tril == 0 with -inf\n",
    "wei = F.softmax(wei, dim=-1)                    # (T, T)\n",
    "#out = wei @ x  # (T, T) @ (B, T, C) -> (B, T, T) @ (B, T, C) = (B, T, C)\n",
    "\n",
    "v = value(x)   # (B, T, C) -> (B, T, head_size)\n",
    "out = wei @ v  # (B, T, T) @ (B, T, head_size) = (B, T, head_size)\n",
    "\n",
    "print(wei[0])"
   ]
  },
  {
   "cell_type": "code",
   "execution_count": 31,
   "metadata": {},
   "outputs": [
    {
     "name": "stdout",
     "output_type": "stream",
     "text": [
      "1.0449\n",
      "1.0700\n",
      "1.0918\n"
     ]
    }
   ],
   "source": [
    "k = torch.randn(B, T, head_size)\n",
    "q = torch.randn(B, T, head_size)\n",
    "wei = q @ k.transpose(-2, -1) * (head_size ** -0.5) # This is the scaled attention, avoiding exploding variance which would sharpen the softmax distributions (and thus make the attention more deterministic)\n",
    "\n",
    "print(k.var().item().__format__('.4f'))   # The variance is like before\n",
    "print(q.var().item().__format__('.4f'))   # The variance is like before\n",
    "print(wei.var().item().__format__('.4f')) # The variance is now much smaller"
   ]
  },
  {
   "cell_type": "code",
   "execution_count": 32,
   "metadata": {},
   "outputs": [
    {
     "name": "stdout",
     "output_type": "stream",
     "text": [
      "tensor(0.1392) tensor(0.8899)\n",
      "tensor(7.4506e-09) tensor(1.0000)\n",
      "tensor([ 0.0468, -0.1209, -0.1358,  0.6035, -0.0515])\n",
      "torch.Size([32, 100])\n"
     ]
    }
   ],
   "source": [
    "# Makemore 3's BatchNorm1d\n",
    "class BatchNorm1d:\n",
    "  \n",
    "  def __init__(self, dim, eps=1e-5, momentum=0.1):\n",
    "    self.eps = eps                        # Epsilon set to PyTorch default, you may change it\n",
    "    self.momentum = momentum              # Momemtum set to PyTorch default, you may change it\n",
    "    self.training = True\n",
    "    # Initialize Parameters (trained with backprop)\n",
    "    # (bngain -> gamma, bnbias -> beta)\n",
    "    self.gamma = torch.ones(dim)\n",
    "    self.beta = torch.zeros(dim)\n",
    "    # Initialize Buffers \n",
    "    # (Trained with a running 'momentum update')\n",
    "    self.running_mean = torch.zeros(dim)\n",
    "    self.running_var = torch.ones(dim)\n",
    "\n",
    "  def __call__(self, x):\n",
    "    # Forward-Pass\n",
    "    if self.training:\n",
    "      xmean = x.mean(0, keepdim=True) # Batch mean\n",
    "      xvar = x.var(0, keepdim=True)   # Batch variance\n",
    "    else:\n",
    "      xmean = self.running_mean # Using the running mean as basis\n",
    "      xvar = self.running_var   # Using the running variance as basis\n",
    "    \n",
    "    # Normalize to unit variance\n",
    "    xhat = (x - xmean) / torch.sqrt(xvar + self.eps)\n",
    "    self.out = self.gamma * xhat + self.beta  # Apply batch gain and bias\n",
    "    \n",
    "    # Update the running buffers\n",
    "    if self.training:\n",
    "      with torch.no_grad():\n",
    "        self.running_mean = (1 - self.momentum) * self.running_mean + self.momentum * xmean\n",
    "        self.running_var = (1 - self.momentum) * self.running_var + self.momentum * xvar\n",
    "    \n",
    "    return self.out\n",
    "\n",
    "  def parameters(self):\n",
    "    return [self.gamma, self.beta] # return layer's tensors\n",
    "\n",
    "torch.manual_seed(1337)\n",
    "module = BatchNorm1d(100)\n",
    "x = torch.randn(32, 100)           # Batch size 32, 100 features (100-dimensional vectors)\n",
    "print(x[:,0].mean(), x[:,0].std()) # Old mean and standard deviation of the first feature across the batch (not 0 and 1)\n",
    "x = module(x)                      # Forward pass\n",
    "print(x[:,0].mean(), x[:,0].std()) # New mean and standard deviation of the first feature across the batch (should be 0 and 1)\n",
    "print(x[:5,0])                     # See how the feature indicates the normalization feature-wise across the batch, not sample-wise across the features\n",
    "print(x.shape)                     # Output shape should is the same as input shape"
   ]
  },
  {
   "cell_type": "code",
   "execution_count": 33,
   "metadata": {},
   "outputs": [
    {
     "name": "stdout",
     "output_type": "stream",
     "text": [
      "tensor(0.0409) tensor(1.0476)\n",
      "tensor(-9.5367e-09) tensor(1.0000)\n",
      "tensor([ 0.1335, -0.1059, -0.3824, -0.9127,  0.5583])\n",
      "torch.Size([32, 100])\n"
     ]
    }
   ],
   "source": [
    "# LayerNorm\n",
    "class LayerNorm:\n",
    "  \n",
    "  def __init__(self, dim, eps=1e-5, momentum=0.1):\n",
    "    self.eps = eps                        # Epsilon set to PyTorch default, you may change it\n",
    "    self.gamma = torch.ones(dim)          # Initialize gain\n",
    "    self.beta = torch.zeros(dim)          # Initialize bias\n",
    "\n",
    "  def __call__(self, x):\n",
    "    # Forward-Pass\n",
    "    xmean = x.mean(1, keepdim=True) # Sample mean (across the features)\n",
    "    xvar = x.var(1, keepdim=True)   # Sample variance (across the features)\n",
    "    xhat = (x - xmean) / torch.sqrt(xvar + self.eps) # Normalize x to unit variance\n",
    "    self.out = self.gamma * xhat + self.beta         # Apply feature gain and bias\n",
    "\n",
    "    return self.out\n",
    "\n",
    "  def parameters(self):\n",
    "    return [self.gamma, self.beta] # return layer's tensors\n",
    "\n",
    "torch.manual_seed(1337)\n",
    "module = LayerNorm(100)\n",
    "x = torch.randn(32, 100)           # Batch size 32, 100 features (100-dimensional vectors)\n",
    "print(x[0,:].mean(), x[0,:].std()) # Old mean and standard deviation of the first feature across the batch (not 0 and 1)\n",
    "x = module(x)                      # Forward pass\n",
    "print(x[0,:].mean(), x[0,:].std()) # New mean and standard deviation of the first feature across the batch (should be 0 and 1)\n",
    "print(x[0,:5])                     # See how the features indicate the normalization sample-wise across the features, not feature-wise across the batch\n",
    "print(x.shape)                     # Output shape should is the same as input shape"
   ]
  },
  {
   "cell_type": "code",
   "execution_count": null,
   "metadata": {},
   "outputs": [],
   "source": []
  }
 ],
 "metadata": {
  "kernelspec": {
   "display_name": "base",
   "language": "python",
   "name": "python3"
  },
  "language_info": {
   "codemirror_mode": {
    "name": "ipython",
    "version": 3
   },
   "file_extension": ".py",
   "mimetype": "text/x-python",
   "name": "python",
   "nbconvert_exporter": "python",
   "pygments_lexer": "ipython3",
   "version": "3.12.4"
  }
 },
 "nbformat": 4,
 "nbformat_minor": 2
}
